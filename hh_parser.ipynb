{
  "nbformat": 4,
  "nbformat_minor": 0,
  "metadata": {
    "colab": {
      "name": "hh_parser.ipynb",
      "provenance": [],
      "authorship_tag": "ABX9TyNxxO69ikzk2zXCXa7J3Vbk"
    },
    "kernelspec": {
      "name": "python3",
      "display_name": "Python 3"
    },
    "language_info": {
      "name": "python"
    }
  },
  "cells": [
    {
      "cell_type": "code",
      "execution_count": 1,
      "metadata": {
        "id": "2-yiVu-bC5-r"
      },
      "outputs": [],
      "source": [
        "import requests"
      ]
    },
    {
      "cell_type": "code",
      "source": [
        "import pandas as pd"
      ],
      "metadata": {
        "id": "zXVA-YZEDAeE"
      },
      "execution_count": 2,
      "outputs": []
    },
    {
      "cell_type": "code",
      "source": [
        "number_of_pages = 100\n",
        "#number_of_ads = number_of_pages * per_page"
      ],
      "metadata": {
        "id": "TnrNo0tyE-ys"
      },
      "execution_count": 3,
      "outputs": []
    },
    {
      "cell_type": "code",
      "source": [
        "job_title = [\"'Data Analyst' and 'data scientist'\"]\n",
        "for job in job_title:\n",
        "\tdata=[]\n",
        "\tfor i in range(number_of_pages):\n",
        "\t    url = 'https://api.hh.ru/vacancies'\n",
        "\t    par = {'text': job, 'area':'113','per_page':'10', 'page':i}\n",
        "\t    r = requests.get(url, params=par)\n",
        "\t    e=r.json()\n",
        "\t    data.append(e)\n",
        "\t    vacancy_details = data[0]['items'][0].keys()\n",
        "\t    df = pd.DataFrame(columns= list(vacancy_details))\n",
        "\t    ind = 0\n",
        "\t    for i in range(len(data)):\n",
        "\t    \tfor j in range(len(data[i]['items'])):\n",
        "\t    \t\tdf.loc[ind] = data[i]['items'][j]\n",
        "\t    \t\tind+=1"
      ],
      "metadata": {
        "id": "Qx-3zctLFCWP"
      },
      "execution_count": 4,
      "outputs": []
    },
    {
      "cell_type": "code",
      "source": [
        "csv_name = job+\".csv\"\n",
        "df.to_csv(csv_name)"
      ],
      "metadata": {
        "id": "ID7QPxhuGqH9"
      },
      "execution_count": 6,
      "outputs": []
    }
  ]
}