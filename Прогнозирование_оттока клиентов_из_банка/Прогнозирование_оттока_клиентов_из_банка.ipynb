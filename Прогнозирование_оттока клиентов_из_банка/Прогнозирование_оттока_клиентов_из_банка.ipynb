{
  "nbformat": 4,
  "nbformat_minor": 0,
  "metadata": {
    "colab": {
      "name": "Прогнозирование_оттока клиентов_из_банка.ipynb",
      "provenance": []
    },
    "kernelspec": {
      "name": "python3",
      "display_name": "Python 3"
    },
    "language_info": {
      "name": "python"
    }
  },
  "cells": [
    {
      "cell_type": "markdown",
      "source": [
        "# **Прогнозирование оттока клиентов из банка**\n",
        "Из «Бета-Банка» каждый месяц стали уходить клиенты. Немного, но заметно. Банковские маркетологи посчитали: сохранять текущих клиентов дешевле, чем привлекать новых. \n",
        "\n",
        "Нужно спрогнозировать, уйдёт клиент из банка в ближайшее время или нет. Нам предоставлены исторические данные о поведении клиентов и расторжении договоров с банком.\n",
        "\n",
        "**Источник данных:** https://www.kaggle.com/barelydedicated/bank-customer-churn-modeling\n",
        "\n",
        "**Цель проекта:** построить модель с предельно большим значением F1-меры.\n",
        "\n",
        "**План действий:**\n",
        "откроем данные и изучим общую информацию\n",
        "выполним предобработку\n",
        "подготовим признаки для машинного обучения\n",
        "исследуем баланс классов\n",
        "попробуем разные техники борьбы с дисбалансом\n",
        "протестируем лучшую выявленную модель"
      ],
      "metadata": {
        "id": "fNpWCfZFxFCD"
      }
    },
    {
      "cell_type": "markdown",
      "source": [
        "**Подготовка данных**"
      ],
      "metadata": {
        "id": "_AWU2oA1xbXF"
      }
    },
    {
      "cell_type": "code",
      "source": [
        "import pandas as pd"
      ],
      "metadata": {
        "id": "_hEn4_ZTxecI"
      },
      "execution_count": 1,
      "outputs": []
    },
    {
      "cell_type": "code",
      "source": [
        "data = pd.read_csv('Churn.csv')\n",
        "\n",
        "data.info()\n",
        "data.head()"
      ],
      "metadata": {
        "colab": {
          "base_uri": "https://localhost:8080/",
          "height": 635
        },
        "id": "1SGdBYjX1mRl",
        "outputId": "a8424767-0b97-4476-8a82-8fed7d87b69f"
      },
      "execution_count": 5,
      "outputs": [
        {
          "output_type": "stream",
          "name": "stdout",
          "text": [
            "<class 'pandas.core.frame.DataFrame'>\n",
            "RangeIndex: 10000 entries, 0 to 9999\n",
            "Data columns (total 14 columns):\n",
            " #   Column           Non-Null Count  Dtype  \n",
            "---  ------           --------------  -----  \n",
            " 0   RowNumber        10000 non-null  int64  \n",
            " 1   CustomerId       10000 non-null  int64  \n",
            " 2   Surname          10000 non-null  object \n",
            " 3   CreditScore      10000 non-null  int64  \n",
            " 4   Geography        10000 non-null  object \n",
            " 5   Gender           10000 non-null  object \n",
            " 6   Age              10000 non-null  int64  \n",
            " 7   Tenure           10000 non-null  int64  \n",
            " 8   Balance          10000 non-null  float64\n",
            " 9   NumOfProducts    10000 non-null  int64  \n",
            " 10  HasCrCard        10000 non-null  int64  \n",
            " 11  IsActiveMember   10000 non-null  int64  \n",
            " 12  EstimatedSalary  10000 non-null  float64\n",
            " 13  Exited           10000 non-null  int64  \n",
            "dtypes: float64(2), int64(9), object(3)\n",
            "memory usage: 1.1+ MB\n"
          ]
        },
        {
          "output_type": "execute_result",
          "data": {
            "text/html": [
              "\n",
              "  <div id=\"df-ffefd5e7-4853-4068-a5b2-e4a0f3675d41\">\n",
              "    <div class=\"colab-df-container\">\n",
              "      <div>\n",
              "<style scoped>\n",
              "    .dataframe tbody tr th:only-of-type {\n",
              "        vertical-align: middle;\n",
              "    }\n",
              "\n",
              "    .dataframe tbody tr th {\n",
              "        vertical-align: top;\n",
              "    }\n",
              "\n",
              "    .dataframe thead th {\n",
              "        text-align: right;\n",
              "    }\n",
              "</style>\n",
              "<table border=\"1\" class=\"dataframe\">\n",
              "  <thead>\n",
              "    <tr style=\"text-align: right;\">\n",
              "      <th></th>\n",
              "      <th>RowNumber</th>\n",
              "      <th>CustomerId</th>\n",
              "      <th>Surname</th>\n",
              "      <th>CreditScore</th>\n",
              "      <th>Geography</th>\n",
              "      <th>Gender</th>\n",
              "      <th>Age</th>\n",
              "      <th>Tenure</th>\n",
              "      <th>Balance</th>\n",
              "      <th>NumOfProducts</th>\n",
              "      <th>HasCrCard</th>\n",
              "      <th>IsActiveMember</th>\n",
              "      <th>EstimatedSalary</th>\n",
              "      <th>Exited</th>\n",
              "    </tr>\n",
              "  </thead>\n",
              "  <tbody>\n",
              "    <tr>\n",
              "      <th>0</th>\n",
              "      <td>1</td>\n",
              "      <td>15634602</td>\n",
              "      <td>Hargrave</td>\n",
              "      <td>619</td>\n",
              "      <td>France</td>\n",
              "      <td>Female</td>\n",
              "      <td>42</td>\n",
              "      <td>2</td>\n",
              "      <td>0.00</td>\n",
              "      <td>1</td>\n",
              "      <td>1</td>\n",
              "      <td>1</td>\n",
              "      <td>101348.88</td>\n",
              "      <td>1</td>\n",
              "    </tr>\n",
              "    <tr>\n",
              "      <th>1</th>\n",
              "      <td>2</td>\n",
              "      <td>15647311</td>\n",
              "      <td>Hill</td>\n",
              "      <td>608</td>\n",
              "      <td>Spain</td>\n",
              "      <td>Female</td>\n",
              "      <td>41</td>\n",
              "      <td>1</td>\n",
              "      <td>83807.86</td>\n",
              "      <td>1</td>\n",
              "      <td>0</td>\n",
              "      <td>1</td>\n",
              "      <td>112542.58</td>\n",
              "      <td>0</td>\n",
              "    </tr>\n",
              "    <tr>\n",
              "      <th>2</th>\n",
              "      <td>3</td>\n",
              "      <td>15619304</td>\n",
              "      <td>Onio</td>\n",
              "      <td>502</td>\n",
              "      <td>France</td>\n",
              "      <td>Female</td>\n",
              "      <td>42</td>\n",
              "      <td>8</td>\n",
              "      <td>159660.80</td>\n",
              "      <td>3</td>\n",
              "      <td>1</td>\n",
              "      <td>0</td>\n",
              "      <td>113931.57</td>\n",
              "      <td>1</td>\n",
              "    </tr>\n",
              "    <tr>\n",
              "      <th>3</th>\n",
              "      <td>4</td>\n",
              "      <td>15701354</td>\n",
              "      <td>Boni</td>\n",
              "      <td>699</td>\n",
              "      <td>France</td>\n",
              "      <td>Female</td>\n",
              "      <td>39</td>\n",
              "      <td>1</td>\n",
              "      <td>0.00</td>\n",
              "      <td>2</td>\n",
              "      <td>0</td>\n",
              "      <td>0</td>\n",
              "      <td>93826.63</td>\n",
              "      <td>0</td>\n",
              "    </tr>\n",
              "    <tr>\n",
              "      <th>4</th>\n",
              "      <td>5</td>\n",
              "      <td>15737888</td>\n",
              "      <td>Mitchell</td>\n",
              "      <td>850</td>\n",
              "      <td>Spain</td>\n",
              "      <td>Female</td>\n",
              "      <td>43</td>\n",
              "      <td>2</td>\n",
              "      <td>125510.82</td>\n",
              "      <td>1</td>\n",
              "      <td>1</td>\n",
              "      <td>1</td>\n",
              "      <td>79084.10</td>\n",
              "      <td>0</td>\n",
              "    </tr>\n",
              "  </tbody>\n",
              "</table>\n",
              "</div>\n",
              "      <button class=\"colab-df-convert\" onclick=\"convertToInteractive('df-ffefd5e7-4853-4068-a5b2-e4a0f3675d41')\"\n",
              "              title=\"Convert this dataframe to an interactive table.\"\n",
              "              style=\"display:none;\">\n",
              "        \n",
              "  <svg xmlns=\"http://www.w3.org/2000/svg\" height=\"24px\"viewBox=\"0 0 24 24\"\n",
              "       width=\"24px\">\n",
              "    <path d=\"M0 0h24v24H0V0z\" fill=\"none\"/>\n",
              "    <path d=\"M18.56 5.44l.94 2.06.94-2.06 2.06-.94-2.06-.94-.94-2.06-.94 2.06-2.06.94zm-11 1L8.5 8.5l.94-2.06 2.06-.94-2.06-.94L8.5 2.5l-.94 2.06-2.06.94zm10 10l.94 2.06.94-2.06 2.06-.94-2.06-.94-.94-2.06-.94 2.06-2.06.94z\"/><path d=\"M17.41 7.96l-1.37-1.37c-.4-.4-.92-.59-1.43-.59-.52 0-1.04.2-1.43.59L10.3 9.45l-7.72 7.72c-.78.78-.78 2.05 0 2.83L4 21.41c.39.39.9.59 1.41.59.51 0 1.02-.2 1.41-.59l7.78-7.78 2.81-2.81c.8-.78.8-2.07 0-2.86zM5.41 20L4 18.59l7.72-7.72 1.47 1.35L5.41 20z\"/>\n",
              "  </svg>\n",
              "      </button>\n",
              "      \n",
              "  <style>\n",
              "    .colab-df-container {\n",
              "      display:flex;\n",
              "      flex-wrap:wrap;\n",
              "      gap: 12px;\n",
              "    }\n",
              "\n",
              "    .colab-df-convert {\n",
              "      background-color: #E8F0FE;\n",
              "      border: none;\n",
              "      border-radius: 50%;\n",
              "      cursor: pointer;\n",
              "      display: none;\n",
              "      fill: #1967D2;\n",
              "      height: 32px;\n",
              "      padding: 0 0 0 0;\n",
              "      width: 32px;\n",
              "    }\n",
              "\n",
              "    .colab-df-convert:hover {\n",
              "      background-color: #E2EBFA;\n",
              "      box-shadow: 0px 1px 2px rgba(60, 64, 67, 0.3), 0px 1px 3px 1px rgba(60, 64, 67, 0.15);\n",
              "      fill: #174EA6;\n",
              "    }\n",
              "\n",
              "    [theme=dark] .colab-df-convert {\n",
              "      background-color: #3B4455;\n",
              "      fill: #D2E3FC;\n",
              "    }\n",
              "\n",
              "    [theme=dark] .colab-df-convert:hover {\n",
              "      background-color: #434B5C;\n",
              "      box-shadow: 0px 1px 3px 1px rgba(0, 0, 0, 0.15);\n",
              "      filter: drop-shadow(0px 1px 2px rgba(0, 0, 0, 0.3));\n",
              "      fill: #FFFFFF;\n",
              "    }\n",
              "  </style>\n",
              "\n",
              "      <script>\n",
              "        const buttonEl =\n",
              "          document.querySelector('#df-ffefd5e7-4853-4068-a5b2-e4a0f3675d41 button.colab-df-convert');\n",
              "        buttonEl.style.display =\n",
              "          google.colab.kernel.accessAllowed ? 'block' : 'none';\n",
              "\n",
              "        async function convertToInteractive(key) {\n",
              "          const element = document.querySelector('#df-ffefd5e7-4853-4068-a5b2-e4a0f3675d41');\n",
              "          const dataTable =\n",
              "            await google.colab.kernel.invokeFunction('convertToInteractive',\n",
              "                                                     [key], {});\n",
              "          if (!dataTable) return;\n",
              "\n",
              "          const docLinkHtml = 'Like what you see? Visit the ' +\n",
              "            '<a target=\"_blank\" href=https://colab.research.google.com/notebooks/data_table.ipynb>data table notebook</a>'\n",
              "            + ' to learn more about interactive tables.';\n",
              "          element.innerHTML = '';\n",
              "          dataTable['output_type'] = 'display_data';\n",
              "          await google.colab.output.renderOutput(dataTable, element);\n",
              "          const docLink = document.createElement('div');\n",
              "          docLink.innerHTML = docLinkHtml;\n",
              "          element.appendChild(docLink);\n",
              "        }\n",
              "      </script>\n",
              "    </div>\n",
              "  </div>\n",
              "  "
            ],
            "text/plain": [
              "   RowNumber  CustomerId   Surname  ...  IsActiveMember EstimatedSalary Exited\n",
              "0          1    15634602  Hargrave  ...               1       101348.88      1\n",
              "1          2    15647311      Hill  ...               1       112542.58      0\n",
              "2          3    15619304      Onio  ...               0       113931.57      1\n",
              "3          4    15701354      Boni  ...               0        93826.63      0\n",
              "4          5    15737888  Mitchell  ...               1        79084.10      0\n",
              "\n",
              "[5 rows x 14 columns]"
            ]
          },
          "metadata": {},
          "execution_count": 5
        }
      ]
    },
    {
      "cell_type": "markdown",
      "source": [
        "Входные данные представляют собой таблицу, в которой каждая строка - наблюдение за одним из клиентов банка по 14 признакам.\n",
        "\n",
        "**Признаки:**\n",
        "\n",
        "RowNumber — индекс строки в данных\n",
        "CustomerId — уникальный идентификатор клиента\n",
        "Surname — фамилия\n",
        "CreditScore — кредитный рейтинг\n",
        "Geography — страна проживания\n",
        "Gender — пол\n",
        "Age — возраст\n",
        "Tenure — сколько лет человек является клиентом банка\n",
        "Balance — баланс на счёте\n",
        "NumOfProducts — количество продуктов банка, используемых клиентом\n",
        "HasCrCard — наличие кредитной карты\n",
        "IsActiveMember — активность клиента\n",
        "EstimatedSalary — предполагаемая зарплата\n",
        "Целевой признак:\n",
        "\n",
        "**Exited** — факт ухода клиента"
      ],
      "metadata": {
        "id": "MoxRLRh837MD"
      }
    },
    {
      "cell_type": "markdown",
      "source": [
        "# **Удаление ненужных столбцов**"
      ],
      "metadata": {
        "id": "BgFFWsJ_44iy"
      }
    },
    {
      "cell_type": "markdown",
      "source": [
        "В таблице есть два столбца, которые не несут никакой полезной информации для модели: RowNumber просто дублирует индекс строки, CustomerId и Surname - по сути по-разному записанные имена клиентов, уж точно никак не влияют на уход клиента из банка. Поэтому удалим эти столбцы."
      ],
      "metadata": {
        "id": "hyTrt8sW48OI"
      }
    },
    {
      "cell_type": "code",
      "source": [
        "data = data.drop(['RowNumber', 'CustomerId', 'Surname'], axis=1)\n",
        "data.head()"
      ],
      "metadata": {
        "colab": {
          "base_uri": "https://localhost:8080/",
          "height": 270
        },
        "id": "WHFY18CL5Cxo",
        "outputId": "318c0951-d0da-4c65-d834-0bcdac4eec20"
      },
      "execution_count": 6,
      "outputs": [
        {
          "output_type": "execute_result",
          "data": {
            "text/html": [
              "\n",
              "  <div id=\"df-e422126f-ae21-4ea2-920c-b55a150bc534\">\n",
              "    <div class=\"colab-df-container\">\n",
              "      <div>\n",
              "<style scoped>\n",
              "    .dataframe tbody tr th:only-of-type {\n",
              "        vertical-align: middle;\n",
              "    }\n",
              "\n",
              "    .dataframe tbody tr th {\n",
              "        vertical-align: top;\n",
              "    }\n",
              "\n",
              "    .dataframe thead th {\n",
              "        text-align: right;\n",
              "    }\n",
              "</style>\n",
              "<table border=\"1\" class=\"dataframe\">\n",
              "  <thead>\n",
              "    <tr style=\"text-align: right;\">\n",
              "      <th></th>\n",
              "      <th>CreditScore</th>\n",
              "      <th>Geography</th>\n",
              "      <th>Gender</th>\n",
              "      <th>Age</th>\n",
              "      <th>Tenure</th>\n",
              "      <th>Balance</th>\n",
              "      <th>NumOfProducts</th>\n",
              "      <th>HasCrCard</th>\n",
              "      <th>IsActiveMember</th>\n",
              "      <th>EstimatedSalary</th>\n",
              "      <th>Exited</th>\n",
              "    </tr>\n",
              "  </thead>\n",
              "  <tbody>\n",
              "    <tr>\n",
              "      <th>0</th>\n",
              "      <td>619</td>\n",
              "      <td>France</td>\n",
              "      <td>Female</td>\n",
              "      <td>42</td>\n",
              "      <td>2</td>\n",
              "      <td>0.00</td>\n",
              "      <td>1</td>\n",
              "      <td>1</td>\n",
              "      <td>1</td>\n",
              "      <td>101348.88</td>\n",
              "      <td>1</td>\n",
              "    </tr>\n",
              "    <tr>\n",
              "      <th>1</th>\n",
              "      <td>608</td>\n",
              "      <td>Spain</td>\n",
              "      <td>Female</td>\n",
              "      <td>41</td>\n",
              "      <td>1</td>\n",
              "      <td>83807.86</td>\n",
              "      <td>1</td>\n",
              "      <td>0</td>\n",
              "      <td>1</td>\n",
              "      <td>112542.58</td>\n",
              "      <td>0</td>\n",
              "    </tr>\n",
              "    <tr>\n",
              "      <th>2</th>\n",
              "      <td>502</td>\n",
              "      <td>France</td>\n",
              "      <td>Female</td>\n",
              "      <td>42</td>\n",
              "      <td>8</td>\n",
              "      <td>159660.80</td>\n",
              "      <td>3</td>\n",
              "      <td>1</td>\n",
              "      <td>0</td>\n",
              "      <td>113931.57</td>\n",
              "      <td>1</td>\n",
              "    </tr>\n",
              "    <tr>\n",
              "      <th>3</th>\n",
              "      <td>699</td>\n",
              "      <td>France</td>\n",
              "      <td>Female</td>\n",
              "      <td>39</td>\n",
              "      <td>1</td>\n",
              "      <td>0.00</td>\n",
              "      <td>2</td>\n",
              "      <td>0</td>\n",
              "      <td>0</td>\n",
              "      <td>93826.63</td>\n",
              "      <td>0</td>\n",
              "    </tr>\n",
              "    <tr>\n",
              "      <th>4</th>\n",
              "      <td>850</td>\n",
              "      <td>Spain</td>\n",
              "      <td>Female</td>\n",
              "      <td>43</td>\n",
              "      <td>2</td>\n",
              "      <td>125510.82</td>\n",
              "      <td>1</td>\n",
              "      <td>1</td>\n",
              "      <td>1</td>\n",
              "      <td>79084.10</td>\n",
              "      <td>0</td>\n",
              "    </tr>\n",
              "  </tbody>\n",
              "</table>\n",
              "</div>\n",
              "      <button class=\"colab-df-convert\" onclick=\"convertToInteractive('df-e422126f-ae21-4ea2-920c-b55a150bc534')\"\n",
              "              title=\"Convert this dataframe to an interactive table.\"\n",
              "              style=\"display:none;\">\n",
              "        \n",
              "  <svg xmlns=\"http://www.w3.org/2000/svg\" height=\"24px\"viewBox=\"0 0 24 24\"\n",
              "       width=\"24px\">\n",
              "    <path d=\"M0 0h24v24H0V0z\" fill=\"none\"/>\n",
              "    <path d=\"M18.56 5.44l.94 2.06.94-2.06 2.06-.94-2.06-.94-.94-2.06-.94 2.06-2.06.94zm-11 1L8.5 8.5l.94-2.06 2.06-.94-2.06-.94L8.5 2.5l-.94 2.06-2.06.94zm10 10l.94 2.06.94-2.06 2.06-.94-2.06-.94-.94-2.06-.94 2.06-2.06.94z\"/><path d=\"M17.41 7.96l-1.37-1.37c-.4-.4-.92-.59-1.43-.59-.52 0-1.04.2-1.43.59L10.3 9.45l-7.72 7.72c-.78.78-.78 2.05 0 2.83L4 21.41c.39.39.9.59 1.41.59.51 0 1.02-.2 1.41-.59l7.78-7.78 2.81-2.81c.8-.78.8-2.07 0-2.86zM5.41 20L4 18.59l7.72-7.72 1.47 1.35L5.41 20z\"/>\n",
              "  </svg>\n",
              "      </button>\n",
              "      \n",
              "  <style>\n",
              "    .colab-df-container {\n",
              "      display:flex;\n",
              "      flex-wrap:wrap;\n",
              "      gap: 12px;\n",
              "    }\n",
              "\n",
              "    .colab-df-convert {\n",
              "      background-color: #E8F0FE;\n",
              "      border: none;\n",
              "      border-radius: 50%;\n",
              "      cursor: pointer;\n",
              "      display: none;\n",
              "      fill: #1967D2;\n",
              "      height: 32px;\n",
              "      padding: 0 0 0 0;\n",
              "      width: 32px;\n",
              "    }\n",
              "\n",
              "    .colab-df-convert:hover {\n",
              "      background-color: #E2EBFA;\n",
              "      box-shadow: 0px 1px 2px rgba(60, 64, 67, 0.3), 0px 1px 3px 1px rgba(60, 64, 67, 0.15);\n",
              "      fill: #174EA6;\n",
              "    }\n",
              "\n",
              "    [theme=dark] .colab-df-convert {\n",
              "      background-color: #3B4455;\n",
              "      fill: #D2E3FC;\n",
              "    }\n",
              "\n",
              "    [theme=dark] .colab-df-convert:hover {\n",
              "      background-color: #434B5C;\n",
              "      box-shadow: 0px 1px 3px 1px rgba(0, 0, 0, 0.15);\n",
              "      filter: drop-shadow(0px 1px 2px rgba(0, 0, 0, 0.3));\n",
              "      fill: #FFFFFF;\n",
              "    }\n",
              "  </style>\n",
              "\n",
              "      <script>\n",
              "        const buttonEl =\n",
              "          document.querySelector('#df-e422126f-ae21-4ea2-920c-b55a150bc534 button.colab-df-convert');\n",
              "        buttonEl.style.display =\n",
              "          google.colab.kernel.accessAllowed ? 'block' : 'none';\n",
              "\n",
              "        async function convertToInteractive(key) {\n",
              "          const element = document.querySelector('#df-e422126f-ae21-4ea2-920c-b55a150bc534');\n",
              "          const dataTable =\n",
              "            await google.colab.kernel.invokeFunction('convertToInteractive',\n",
              "                                                     [key], {});\n",
              "          if (!dataTable) return;\n",
              "\n",
              "          const docLinkHtml = 'Like what you see? Visit the ' +\n",
              "            '<a target=\"_blank\" href=https://colab.research.google.com/notebooks/data_table.ipynb>data table notebook</a>'\n",
              "            + ' to learn more about interactive tables.';\n",
              "          element.innerHTML = '';\n",
              "          dataTable['output_type'] = 'display_data';\n",
              "          await google.colab.output.renderOutput(dataTable, element);\n",
              "          const docLink = document.createElement('div');\n",
              "          docLink.innerHTML = docLinkHtml;\n",
              "          element.appendChild(docLink);\n",
              "        }\n",
              "      </script>\n",
              "    </div>\n",
              "  </div>\n",
              "  "
            ],
            "text/plain": [
              "   CreditScore Geography  Gender  ...  IsActiveMember  EstimatedSalary  Exited\n",
              "0          619    France  Female  ...               1        101348.88       1\n",
              "1          608     Spain  Female  ...               1        112542.58       0\n",
              "2          502    France  Female  ...               0        113931.57       1\n",
              "3          699    France  Female  ...               0         93826.63       0\n",
              "4          850     Spain  Female  ...               1         79084.10       0\n",
              "\n",
              "[5 rows x 11 columns]"
            ]
          },
          "metadata": {},
          "execution_count": 6
        }
      ]
    },
    {
      "cell_type": "markdown",
      "source": [
        "**Замена пропусков**\n",
        "\n",
        "В столбце Tenure присутствуют пропуски. Их около 10%, поэтому удаление такой части данных будет неразумно. Заменим пропуски медианой. Такой подход учитывает имеющиеся данные и усредняет их."
      ],
      "metadata": {
        "id": "uQb8buEz5L8f"
      }
    },
    {
      "cell_type": "code",
      "source": [
        "data['Tenure'] = data['Tenure'].fillna(data['Tenure'].median())\n",
        "#заодно приведем столбец к более читаемому виду\n",
        "data['Tenure'] = data['Tenure'].astype('int')\n",
        "\n",
        "#проверим, что пропусков не осталось\n",
        "data['Tenure'].isna().sum()"
      ],
      "metadata": {
        "colab": {
          "base_uri": "https://localhost:8080/"
        },
        "id": "hBVp5pWr5TeT",
        "outputId": "9c24cb73-1a8a-4a13-d651-911efce6a3a4"
      },
      "execution_count": 7,
      "outputs": [
        {
          "output_type": "execute_result",
          "data": {
            "text/plain": [
              "0"
            ]
          },
          "metadata": {},
          "execution_count": 7
        }
      ]
    },
    {
      "cell_type": "markdown",
      "source": [
        "**Проверка на выбросы**\n",
        "\n",
        "В количественных признаках возможно существуют выбросы. Их точно стоит проверить. Для этого посмотрим общую информацию о признаках и их распределения."
      ],
      "metadata": {
        "id": "iXw5B0XS5buu"
      }
    },
    {
      "cell_type": "code",
      "source": [
        "quantitative = ['CreditScore', 'Age', 'Tenure', 'Balance', 'NumOfProducts', 'EstimatedSalary']\n",
        "\n",
        "data.describe()"
      ],
      "metadata": {
        "colab": {
          "base_uri": "https://localhost:8080/",
          "height": 364
        },
        "id": "FBqEeA4753rI",
        "outputId": "6a4e9c21-f79d-49e0-d170-ab48fc618d52"
      },
      "execution_count": 8,
      "outputs": [
        {
          "output_type": "execute_result",
          "data": {
            "text/html": [
              "\n",
              "  <div id=\"df-560bc1a2-0883-4672-995d-7f7ccba0b8ce\">\n",
              "    <div class=\"colab-df-container\">\n",
              "      <div>\n",
              "<style scoped>\n",
              "    .dataframe tbody tr th:only-of-type {\n",
              "        vertical-align: middle;\n",
              "    }\n",
              "\n",
              "    .dataframe tbody tr th {\n",
              "        vertical-align: top;\n",
              "    }\n",
              "\n",
              "    .dataframe thead th {\n",
              "        text-align: right;\n",
              "    }\n",
              "</style>\n",
              "<table border=\"1\" class=\"dataframe\">\n",
              "  <thead>\n",
              "    <tr style=\"text-align: right;\">\n",
              "      <th></th>\n",
              "      <th>CreditScore</th>\n",
              "      <th>Age</th>\n",
              "      <th>Tenure</th>\n",
              "      <th>Balance</th>\n",
              "      <th>NumOfProducts</th>\n",
              "      <th>HasCrCard</th>\n",
              "      <th>IsActiveMember</th>\n",
              "      <th>EstimatedSalary</th>\n",
              "      <th>Exited</th>\n",
              "    </tr>\n",
              "  </thead>\n",
              "  <tbody>\n",
              "    <tr>\n",
              "      <th>count</th>\n",
              "      <td>10000.000000</td>\n",
              "      <td>10000.000000</td>\n",
              "      <td>10000.000000</td>\n",
              "      <td>10000.000000</td>\n",
              "      <td>10000.000000</td>\n",
              "      <td>10000.00000</td>\n",
              "      <td>10000.000000</td>\n",
              "      <td>10000.000000</td>\n",
              "      <td>10000.000000</td>\n",
              "    </tr>\n",
              "    <tr>\n",
              "      <th>mean</th>\n",
              "      <td>650.528800</td>\n",
              "      <td>38.921800</td>\n",
              "      <td>5.012800</td>\n",
              "      <td>76485.889288</td>\n",
              "      <td>1.530200</td>\n",
              "      <td>0.70550</td>\n",
              "      <td>0.515100</td>\n",
              "      <td>100090.239881</td>\n",
              "      <td>0.203700</td>\n",
              "    </tr>\n",
              "    <tr>\n",
              "      <th>std</th>\n",
              "      <td>96.653299</td>\n",
              "      <td>10.487806</td>\n",
              "      <td>2.892174</td>\n",
              "      <td>62397.405202</td>\n",
              "      <td>0.581654</td>\n",
              "      <td>0.45584</td>\n",
              "      <td>0.499797</td>\n",
              "      <td>57510.492818</td>\n",
              "      <td>0.402769</td>\n",
              "    </tr>\n",
              "    <tr>\n",
              "      <th>min</th>\n",
              "      <td>350.000000</td>\n",
              "      <td>18.000000</td>\n",
              "      <td>0.000000</td>\n",
              "      <td>0.000000</td>\n",
              "      <td>1.000000</td>\n",
              "      <td>0.00000</td>\n",
              "      <td>0.000000</td>\n",
              "      <td>11.580000</td>\n",
              "      <td>0.000000</td>\n",
              "    </tr>\n",
              "    <tr>\n",
              "      <th>25%</th>\n",
              "      <td>584.000000</td>\n",
              "      <td>32.000000</td>\n",
              "      <td>3.000000</td>\n",
              "      <td>0.000000</td>\n",
              "      <td>1.000000</td>\n",
              "      <td>0.00000</td>\n",
              "      <td>0.000000</td>\n",
              "      <td>51002.110000</td>\n",
              "      <td>0.000000</td>\n",
              "    </tr>\n",
              "    <tr>\n",
              "      <th>50%</th>\n",
              "      <td>652.000000</td>\n",
              "      <td>37.000000</td>\n",
              "      <td>5.000000</td>\n",
              "      <td>97198.540000</td>\n",
              "      <td>1.000000</td>\n",
              "      <td>1.00000</td>\n",
              "      <td>1.000000</td>\n",
              "      <td>100193.915000</td>\n",
              "      <td>0.000000</td>\n",
              "    </tr>\n",
              "    <tr>\n",
              "      <th>75%</th>\n",
              "      <td>718.000000</td>\n",
              "      <td>44.000000</td>\n",
              "      <td>7.000000</td>\n",
              "      <td>127644.240000</td>\n",
              "      <td>2.000000</td>\n",
              "      <td>1.00000</td>\n",
              "      <td>1.000000</td>\n",
              "      <td>149388.247500</td>\n",
              "      <td>0.000000</td>\n",
              "    </tr>\n",
              "    <tr>\n",
              "      <th>max</th>\n",
              "      <td>850.000000</td>\n",
              "      <td>92.000000</td>\n",
              "      <td>10.000000</td>\n",
              "      <td>250898.090000</td>\n",
              "      <td>4.000000</td>\n",
              "      <td>1.00000</td>\n",
              "      <td>1.000000</td>\n",
              "      <td>199992.480000</td>\n",
              "      <td>1.000000</td>\n",
              "    </tr>\n",
              "  </tbody>\n",
              "</table>\n",
              "</div>\n",
              "      <button class=\"colab-df-convert\" onclick=\"convertToInteractive('df-560bc1a2-0883-4672-995d-7f7ccba0b8ce')\"\n",
              "              title=\"Convert this dataframe to an interactive table.\"\n",
              "              style=\"display:none;\">\n",
              "        \n",
              "  <svg xmlns=\"http://www.w3.org/2000/svg\" height=\"24px\"viewBox=\"0 0 24 24\"\n",
              "       width=\"24px\">\n",
              "    <path d=\"M0 0h24v24H0V0z\" fill=\"none\"/>\n",
              "    <path d=\"M18.56 5.44l.94 2.06.94-2.06 2.06-.94-2.06-.94-.94-2.06-.94 2.06-2.06.94zm-11 1L8.5 8.5l.94-2.06 2.06-.94-2.06-.94L8.5 2.5l-.94 2.06-2.06.94zm10 10l.94 2.06.94-2.06 2.06-.94-2.06-.94-.94-2.06-.94 2.06-2.06.94z\"/><path d=\"M17.41 7.96l-1.37-1.37c-.4-.4-.92-.59-1.43-.59-.52 0-1.04.2-1.43.59L10.3 9.45l-7.72 7.72c-.78.78-.78 2.05 0 2.83L4 21.41c.39.39.9.59 1.41.59.51 0 1.02-.2 1.41-.59l7.78-7.78 2.81-2.81c.8-.78.8-2.07 0-2.86zM5.41 20L4 18.59l7.72-7.72 1.47 1.35L5.41 20z\"/>\n",
              "  </svg>\n",
              "      </button>\n",
              "      \n",
              "  <style>\n",
              "    .colab-df-container {\n",
              "      display:flex;\n",
              "      flex-wrap:wrap;\n",
              "      gap: 12px;\n",
              "    }\n",
              "\n",
              "    .colab-df-convert {\n",
              "      background-color: #E8F0FE;\n",
              "      border: none;\n",
              "      border-radius: 50%;\n",
              "      cursor: pointer;\n",
              "      display: none;\n",
              "      fill: #1967D2;\n",
              "      height: 32px;\n",
              "      padding: 0 0 0 0;\n",
              "      width: 32px;\n",
              "    }\n",
              "\n",
              "    .colab-df-convert:hover {\n",
              "      background-color: #E2EBFA;\n",
              "      box-shadow: 0px 1px 2px rgba(60, 64, 67, 0.3), 0px 1px 3px 1px rgba(60, 64, 67, 0.15);\n",
              "      fill: #174EA6;\n",
              "    }\n",
              "\n",
              "    [theme=dark] .colab-df-convert {\n",
              "      background-color: #3B4455;\n",
              "      fill: #D2E3FC;\n",
              "    }\n",
              "\n",
              "    [theme=dark] .colab-df-convert:hover {\n",
              "      background-color: #434B5C;\n",
              "      box-shadow: 0px 1px 3px 1px rgba(0, 0, 0, 0.15);\n",
              "      filter: drop-shadow(0px 1px 2px rgba(0, 0, 0, 0.3));\n",
              "      fill: #FFFFFF;\n",
              "    }\n",
              "  </style>\n",
              "\n",
              "      <script>\n",
              "        const buttonEl =\n",
              "          document.querySelector('#df-560bc1a2-0883-4672-995d-7f7ccba0b8ce button.colab-df-convert');\n",
              "        buttonEl.style.display =\n",
              "          google.colab.kernel.accessAllowed ? 'block' : 'none';\n",
              "\n",
              "        async function convertToInteractive(key) {\n",
              "          const element = document.querySelector('#df-560bc1a2-0883-4672-995d-7f7ccba0b8ce');\n",
              "          const dataTable =\n",
              "            await google.colab.kernel.invokeFunction('convertToInteractive',\n",
              "                                                     [key], {});\n",
              "          if (!dataTable) return;\n",
              "\n",
              "          const docLinkHtml = 'Like what you see? Visit the ' +\n",
              "            '<a target=\"_blank\" href=https://colab.research.google.com/notebooks/data_table.ipynb>data table notebook</a>'\n",
              "            + ' to learn more about interactive tables.';\n",
              "          element.innerHTML = '';\n",
              "          dataTable['output_type'] = 'display_data';\n",
              "          await google.colab.output.renderOutput(dataTable, element);\n",
              "          const docLink = document.createElement('div');\n",
              "          docLink.innerHTML = docLinkHtml;\n",
              "          element.appendChild(docLink);\n",
              "        }\n",
              "      </script>\n",
              "    </div>\n",
              "  </div>\n",
              "  "
            ],
            "text/plain": [
              "        CreditScore           Age  ...  EstimatedSalary        Exited\n",
              "count  10000.000000  10000.000000  ...     10000.000000  10000.000000\n",
              "mean     650.528800     38.921800  ...    100090.239881      0.203700\n",
              "std       96.653299     10.487806  ...     57510.492818      0.402769\n",
              "min      350.000000     18.000000  ...        11.580000      0.000000\n",
              "25%      584.000000     32.000000  ...     51002.110000      0.000000\n",
              "50%      652.000000     37.000000  ...    100193.915000      0.000000\n",
              "75%      718.000000     44.000000  ...    149388.247500      0.000000\n",
              "max      850.000000     92.000000  ...    199992.480000      1.000000\n",
              "\n",
              "[8 rows x 9 columns]"
            ]
          },
          "metadata": {},
          "execution_count": 8
        }
      ]
    },
    {
      "cell_type": "code",
      "source": [
        "import matplotlib.pyplot as plt\n",
        "import seaborn as sns\n",
        "\n",
        "sns.set_style('darkgrid')\n",
        "\n",
        "clm = ['CreditScore', 'Age', 'Tenure', 'Balance', 'NumOfProducts', 'EstimatedSalary']\n",
        "data[clm].hist(bins=30, figsize=(15, 10))\n",
        "plt.show()"
      ],
      "metadata": {
        "colab": {
          "base_uri": "https://localhost:8080/",
          "height": 607
        },
        "id": "whqmC8K-553G",
        "outputId": "07a24e27-f04a-4dd6-f62a-029dfdd2d0e6"
      },
      "execution_count": 9,
      "outputs": [
        {
          "output_type": "display_data",
          "data": {
            "image/png": "[encoded data removed]",
            "text/plain": [
              "<Figure size 1080x720 with 6 Axes>"
            ]
          },
          "metadata": {}
        }
      ]
    },
    {
      "cell_type": "markdown",
      "source": [
        "В целом все значения в пределах разумного.\n",
        "\n",
        "По возрасту: самому младшему кллиенту 18, а значит он совершеннолетний и уже может пользоваться услугами банка. Самому старшему - 92, это не выходит за рамки возможного.\n",
        "\n",
        "Баланс на счете вообще распределен нормально, не учитывая пика в нуле. В данной задаче это не похоже на выброс. Так как нулевой баланс может быть сигналом, что человек вскоре перестанет пользоваться услугами банка.\n",
        "\n",
        "Во всех остальных признаках тоже нет аномальных значений. А значит выбросы в данны отсутствуют\n"
      ],
      "metadata": {
        "id": "CYqfMsOl6Cva"
      }
    },
    {
      "cell_type": "markdown",
      "source": [
        "**Прямое кодирование OHE**\n",
        "\n",
        "Так как многие алгоритмы машинного обучение не умеют работать с объектами типа object, то преобразуем подобные столбцы в нашей таблице техникой прямого кодирования.\n"
      ],
      "metadata": {
        "id": "wg-leIwz6G3V"
      }
    },
    {
      "cell_type": "code",
      "source": [
        "categorial = ['Geography', 'Gender']\n",
        "#укажем параметр drop_first=True, чтобы не перегружать модель лишним столбцом\n",
        "data = pd.get_dummies(data, columns=categorial, drop_first=True)\n",
        "#посмотрим на новые столбцы\n",
        "data.head()"
      ],
      "metadata": {
        "colab": {
          "base_uri": "https://localhost:8080/",
          "height": 270
        },
        "id": "ARuLrsSQ6EVS",
        "outputId": "942ac5b3-0352-4fa8-c321-3889ae85bd13"
      },
      "execution_count": 10,
      "outputs": [
        {
          "output_type": "execute_result",
          "data": {
            "text/html": [
              "\n",
              "  <div id=\"df-190d5dc1-9fa1-4b15-a325-d10ac4232a7b\">\n",
              "    <div class=\"colab-df-container\">\n",
              "      <div>\n",
              "<style scoped>\n",
              "    .dataframe tbody tr th:only-of-type {\n",
              "        vertical-align: middle;\n",
              "    }\n",
              "\n",
              "    .dataframe tbody tr th {\n",
              "        vertical-align: top;\n",
              "    }\n",
              "\n",
              "    .dataframe thead th {\n",
              "        text-align: right;\n",
              "    }\n",
              "</style>\n",
              "<table border=\"1\" class=\"dataframe\">\n",
              "  <thead>\n",
              "    <tr style=\"text-align: right;\">\n",
              "      <th></th>\n",
              "      <th>CreditScore</th>\n",
              "      <th>Age</th>\n",
              "      <th>Tenure</th>\n",
              "      <th>Balance</th>\n",
              "      <th>NumOfProducts</th>\n",
              "      <th>HasCrCard</th>\n",
              "      <th>IsActiveMember</th>\n",
              "      <th>EstimatedSalary</th>\n",
              "      <th>Exited</th>\n",
              "      <th>Geography_Germany</th>\n",
              "      <th>Geography_Spain</th>\n",
              "      <th>Gender_Male</th>\n",
              "    </tr>\n",
              "  </thead>\n",
              "  <tbody>\n",
              "    <tr>\n",
              "      <th>0</th>\n",
              "      <td>619</td>\n",
              "      <td>42</td>\n",
              "      <td>2</td>\n",
              "      <td>0.00</td>\n",
              "      <td>1</td>\n",
              "      <td>1</td>\n",
              "      <td>1</td>\n",
              "      <td>101348.88</td>\n",
              "      <td>1</td>\n",
              "      <td>0</td>\n",
              "      <td>0</td>\n",
              "      <td>0</td>\n",
              "    </tr>\n",
              "    <tr>\n",
              "      <th>1</th>\n",
              "      <td>608</td>\n",
              "      <td>41</td>\n",
              "      <td>1</td>\n",
              "      <td>83807.86</td>\n",
              "      <td>1</td>\n",
              "      <td>0</td>\n",
              "      <td>1</td>\n",
              "      <td>112542.58</td>\n",
              "      <td>0</td>\n",
              "      <td>0</td>\n",
              "      <td>1</td>\n",
              "      <td>0</td>\n",
              "    </tr>\n",
              "    <tr>\n",
              "      <th>2</th>\n",
              "      <td>502</td>\n",
              "      <td>42</td>\n",
              "      <td>8</td>\n",
              "      <td>159660.80</td>\n",
              "      <td>3</td>\n",
              "      <td>1</td>\n",
              "      <td>0</td>\n",
              "      <td>113931.57</td>\n",
              "      <td>1</td>\n",
              "      <td>0</td>\n",
              "      <td>0</td>\n",
              "      <td>0</td>\n",
              "    </tr>\n",
              "    <tr>\n",
              "      <th>3</th>\n",
              "      <td>699</td>\n",
              "      <td>39</td>\n",
              "      <td>1</td>\n",
              "      <td>0.00</td>\n",
              "      <td>2</td>\n",
              "      <td>0</td>\n",
              "      <td>0</td>\n",
              "      <td>93826.63</td>\n",
              "      <td>0</td>\n",
              "      <td>0</td>\n",
              "      <td>0</td>\n",
              "      <td>0</td>\n",
              "    </tr>\n",
              "    <tr>\n",
              "      <th>4</th>\n",
              "      <td>850</td>\n",
              "      <td>43</td>\n",
              "      <td>2</td>\n",
              "      <td>125510.82</td>\n",
              "      <td>1</td>\n",
              "      <td>1</td>\n",
              "      <td>1</td>\n",
              "      <td>79084.10</td>\n",
              "      <td>0</td>\n",
              "      <td>0</td>\n",
              "      <td>1</td>\n",
              "      <td>0</td>\n",
              "    </tr>\n",
              "  </tbody>\n",
              "</table>\n",
              "</div>\n",
              "      <button class=\"colab-df-convert\" onclick=\"convertToInteractive('df-190d5dc1-9fa1-4b15-a325-d10ac4232a7b')\"\n",
              "              title=\"Convert this dataframe to an interactive table.\"\n",
              "              style=\"display:none;\">\n",
              "        \n",
              "  <svg xmlns=\"http://www.w3.org/2000/svg\" height=\"24px\"viewBox=\"0 0 24 24\"\n",
              "       width=\"24px\">\n",
              "    <path d=\"M0 0h24v24H0V0z\" fill=\"none\"/>\n",
              "    <path d=\"M18.56 5.44l.94 2.06.94-2.06 2.06-.94-2.06-.94-.94-2.06-.94 2.06-2.06.94zm-11 1L8.5 8.5l.94-2.06 2.06-.94-2.06-.94L8.5 2.5l-.94 2.06-2.06.94zm10 10l.94 2.06.94-2.06 2.06-.94-2.06-.94-.94-2.06-.94 2.06-2.06.94z\"/><path d=\"M17.41 7.96l-1.37-1.37c-.4-.4-.92-.59-1.43-.59-.52 0-1.04.2-1.43.59L10.3 9.45l-7.72 7.72c-.78.78-.78 2.05 0 2.83L4 21.41c.39.39.9.59 1.41.59.51 0 1.02-.2 1.41-.59l7.78-7.78 2.81-2.81c.8-.78.8-2.07 0-2.86zM5.41 20L4 18.59l7.72-7.72 1.47 1.35L5.41 20z\"/>\n",
              "  </svg>\n",
              "      </button>\n",
              "      \n",
              "  <style>\n",
              "    .colab-df-container {\n",
              "      display:flex;\n",
              "      flex-wrap:wrap;\n",
              "      gap: 12px;\n",
              "    }\n",
              "\n",
              "    .colab-df-convert {\n",
              "      background-color: #E8F0FE;\n",
              "      border: none;\n",
              "      border-radius: 50%;\n",
              "      cursor: pointer;\n",
              "      display: none;\n",
              "      fill: #1967D2;\n",
              "      height: 32px;\n",
              "      padding: 0 0 0 0;\n",
              "      width: 32px;\n",
              "    }\n",
              "\n",
              "    .colab-df-convert:hover {\n",
              "      background-color: #E2EBFA;\n",
              "      box-shadow: 0px 1px 2px rgba(60, 64, 67, 0.3), 0px 1px 3px 1px rgba(60, 64, 67, 0.15);\n",
              "      fill: #174EA6;\n",
              "    }\n",
              "\n",
              "    [theme=dark] .colab-df-convert {\n",
              "      background-color: #3B4455;\n",
              "      fill: #D2E3FC;\n",
              "    }\n",
              "\n",
              "    [theme=dark] .colab-df-convert:hover {\n",
              "      background-color: #434B5C;\n",
              "      box-shadow: 0px 1px 3px 1px rgba(0, 0, 0, 0.15);\n",
              "      filter: drop-shadow(0px 1px 2px rgba(0, 0, 0, 0.3));\n",
              "      fill: #FFFFFF;\n",
              "    }\n",
              "  </style>\n",
              "\n",
              "      <script>\n",
              "        const buttonEl =\n",
              "          document.querySelector('#df-190d5dc1-9fa1-4b15-a325-d10ac4232a7b button.colab-df-convert');\n",
              "        buttonEl.style.display =\n",
              "          google.colab.kernel.accessAllowed ? 'block' : 'none';\n",
              "\n",
              "        async function convertToInteractive(key) {\n",
              "          const element = document.querySelector('#df-190d5dc1-9fa1-4b15-a325-d10ac4232a7b');\n",
              "          const dataTable =\n",
              "            await google.colab.kernel.invokeFunction('convertToInteractive',\n",
              "                                                     [key], {});\n",
              "          if (!dataTable) return;\n",
              "\n",
              "          const docLinkHtml = 'Like what you see? Visit the ' +\n",
              "            '<a target=\"_blank\" href=https://colab.research.google.com/notebooks/data_table.ipynb>data table notebook</a>'\n",
              "            + ' to learn more about interactive tables.';\n",
              "          element.innerHTML = '';\n",
              "          dataTable['output_type'] = 'display_data';\n",
              "          await google.colab.output.renderOutput(dataTable, element);\n",
              "          const docLink = document.createElement('div');\n",
              "          docLink.innerHTML = docLinkHtml;\n",
              "          element.appendChild(docLink);\n",
              "        }\n",
              "      </script>\n",
              "    </div>\n",
              "  </div>\n",
              "  "
            ],
            "text/plain": [
              "   CreditScore  Age  Tenure  ...  Geography_Germany  Geography_Spain  Gender_Male\n",
              "0          619   42       2  ...                  0                0            0\n",
              "1          608   41       1  ...                  0                1            0\n",
              "2          502   42       8  ...                  0                0            0\n",
              "3          699   39       1  ...                  0                0            0\n",
              "4          850   43       2  ...                  0                1            0\n",
              "\n",
              "[5 rows x 12 columns]"
            ]
          },
          "metadata": {},
          "execution_count": 10
        }
      ]
    },
    {
      "cell_type": "markdown",
      "source": [
        "**Корреляция признаков**\n",
        "\n",
        "Сильно коррелирующие между собой признаки будут усложнять обучение модели. Проверим как коррелируеют признаки."
      ],
      "metadata": {
        "id": "PBJzcgRW6X0I"
      }
    },
    {
      "cell_type": "code",
      "source": [
        "data.corr()"
      ],
      "metadata": {
        "colab": {
          "base_uri": "https://localhost:8080/",
          "height": 489
        },
        "id": "ymNzlEBo6T85",
        "outputId": "90a36cf6-848b-4c9b-ab34-ef7ecb664f8b"
      },
      "execution_count": 11,
      "outputs": [
        {
          "output_type": "execute_result",
          "data": {
            "text/html": [
              "\n",
              "  <div id=\"df-0b6162f4-7dc6-410b-809e-48782497fdca\">\n",
              "    <div class=\"colab-df-container\">\n",
              "      <div>\n",
              "<style scoped>\n",
              "    .dataframe tbody tr th:only-of-type {\n",
              "        vertical-align: middle;\n",
              "    }\n",
              "\n",
              "    .dataframe tbody tr th {\n",
              "        vertical-align: top;\n",
              "    }\n",
              "\n",
              "    .dataframe thead th {\n",
              "        text-align: right;\n",
              "    }\n",
              "</style>\n",
              "<table border=\"1\" class=\"dataframe\">\n",
              "  <thead>\n",
              "    <tr style=\"text-align: right;\">\n",
              "      <th></th>\n",
              "      <th>CreditScore</th>\n",
              "      <th>Age</th>\n",
              "      <th>Tenure</th>\n",
              "      <th>Balance</th>\n",
              "      <th>NumOfProducts</th>\n",
              "      <th>HasCrCard</th>\n",
              "      <th>IsActiveMember</th>\n",
              "      <th>EstimatedSalary</th>\n",
              "      <th>Exited</th>\n",
              "      <th>Geography_Germany</th>\n",
              "      <th>Geography_Spain</th>\n",
              "      <th>Gender_Male</th>\n",
              "    </tr>\n",
              "  </thead>\n",
              "  <tbody>\n",
              "    <tr>\n",
              "      <th>CreditScore</th>\n",
              "      <td>1.000000</td>\n",
              "      <td>-0.003965</td>\n",
              "      <td>0.000842</td>\n",
              "      <td>0.006268</td>\n",
              "      <td>0.012238</td>\n",
              "      <td>-0.005458</td>\n",
              "      <td>0.025651</td>\n",
              "      <td>-0.001384</td>\n",
              "      <td>-0.027094</td>\n",
              "      <td>0.005538</td>\n",
              "      <td>0.004780</td>\n",
              "      <td>-0.002857</td>\n",
              "    </tr>\n",
              "    <tr>\n",
              "      <th>Age</th>\n",
              "      <td>-0.003965</td>\n",
              "      <td>1.000000</td>\n",
              "      <td>-0.009997</td>\n",
              "      <td>0.028308</td>\n",
              "      <td>-0.030680</td>\n",
              "      <td>-0.011721</td>\n",
              "      <td>0.085472</td>\n",
              "      <td>-0.007201</td>\n",
              "      <td>0.285323</td>\n",
              "      <td>0.046897</td>\n",
              "      <td>-0.001685</td>\n",
              "      <td>-0.027544</td>\n",
              "    </tr>\n",
              "    <tr>\n",
              "      <th>Tenure</th>\n",
              "      <td>0.000842</td>\n",
              "      <td>-0.009997</td>\n",
              "      <td>1.000000</td>\n",
              "      <td>-0.012254</td>\n",
              "      <td>0.013444</td>\n",
              "      <td>0.022583</td>\n",
              "      <td>-0.028362</td>\n",
              "      <td>0.007784</td>\n",
              "      <td>-0.014001</td>\n",
              "      <td>-0.000567</td>\n",
              "      <td>0.003868</td>\n",
              "      <td>0.014733</td>\n",
              "    </tr>\n",
              "    <tr>\n",
              "      <th>Balance</th>\n",
              "      <td>0.006268</td>\n",
              "      <td>0.028308</td>\n",
              "      <td>-0.012254</td>\n",
              "      <td>1.000000</td>\n",
              "      <td>-0.304180</td>\n",
              "      <td>-0.014858</td>\n",
              "      <td>-0.010084</td>\n",
              "      <td>0.012797</td>\n",
              "      <td>0.118533</td>\n",
              "      <td>0.401110</td>\n",
              "      <td>-0.134892</td>\n",
              "      <td>0.012087</td>\n",
              "    </tr>\n",
              "    <tr>\n",
              "      <th>NumOfProducts</th>\n",
              "      <td>0.012238</td>\n",
              "      <td>-0.030680</td>\n",
              "      <td>0.013444</td>\n",
              "      <td>-0.304180</td>\n",
              "      <td>1.000000</td>\n",
              "      <td>0.003183</td>\n",
              "      <td>0.009612</td>\n",
              "      <td>0.014204</td>\n",
              "      <td>-0.047820</td>\n",
              "      <td>-0.010419</td>\n",
              "      <td>0.009039</td>\n",
              "      <td>-0.021859</td>\n",
              "    </tr>\n",
              "    <tr>\n",
              "      <th>HasCrCard</th>\n",
              "      <td>-0.005458</td>\n",
              "      <td>-0.011721</td>\n",
              "      <td>0.022583</td>\n",
              "      <td>-0.014858</td>\n",
              "      <td>0.003183</td>\n",
              "      <td>1.000000</td>\n",
              "      <td>-0.011866</td>\n",
              "      <td>-0.009933</td>\n",
              "      <td>-0.007138</td>\n",
              "      <td>0.010577</td>\n",
              "      <td>-0.013480</td>\n",
              "      <td>0.005766</td>\n",
              "    </tr>\n",
              "    <tr>\n",
              "      <th>IsActiveMember</th>\n",
              "      <td>0.025651</td>\n",
              "      <td>0.085472</td>\n",
              "      <td>-0.028362</td>\n",
              "      <td>-0.010084</td>\n",
              "      <td>0.009612</td>\n",
              "      <td>-0.011866</td>\n",
              "      <td>1.000000</td>\n",
              "      <td>-0.011421</td>\n",
              "      <td>-0.156128</td>\n",
              "      <td>-0.020486</td>\n",
              "      <td>0.016732</td>\n",
              "      <td>0.022544</td>\n",
              "    </tr>\n",
              "    <tr>\n",
              "      <th>EstimatedSalary</th>\n",
              "      <td>-0.001384</td>\n",
              "      <td>-0.007201</td>\n",
              "      <td>0.007784</td>\n",
              "      <td>0.012797</td>\n",
              "      <td>0.014204</td>\n",
              "      <td>-0.009933</td>\n",
              "      <td>-0.011421</td>\n",
              "      <td>1.000000</td>\n",
              "      <td>0.012097</td>\n",
              "      <td>0.010297</td>\n",
              "      <td>-0.006482</td>\n",
              "      <td>-0.008112</td>\n",
              "    </tr>\n",
              "    <tr>\n",
              "      <th>Exited</th>\n",
              "      <td>-0.027094</td>\n",
              "      <td>0.285323</td>\n",
              "      <td>-0.014001</td>\n",
              "      <td>0.118533</td>\n",
              "      <td>-0.047820</td>\n",
              "      <td>-0.007138</td>\n",
              "      <td>-0.156128</td>\n",
              "      <td>0.012097</td>\n",
              "      <td>1.000000</td>\n",
              "      <td>0.173488</td>\n",
              "      <td>-0.052667</td>\n",
              "      <td>-0.106512</td>\n",
              "    </tr>\n",
              "    <tr>\n",
              "      <th>Geography_Germany</th>\n",
              "      <td>0.005538</td>\n",
              "      <td>0.046897</td>\n",
              "      <td>-0.000567</td>\n",
              "      <td>0.401110</td>\n",
              "      <td>-0.010419</td>\n",
              "      <td>0.010577</td>\n",
              "      <td>-0.020486</td>\n",
              "      <td>0.010297</td>\n",
              "      <td>0.173488</td>\n",
              "      <td>1.000000</td>\n",
              "      <td>-0.332084</td>\n",
              "      <td>-0.024628</td>\n",
              "    </tr>\n",
              "    <tr>\n",
              "      <th>Geography_Spain</th>\n",
              "      <td>0.004780</td>\n",
              "      <td>-0.001685</td>\n",
              "      <td>0.003868</td>\n",
              "      <td>-0.134892</td>\n",
              "      <td>0.009039</td>\n",
              "      <td>-0.013480</td>\n",
              "      <td>0.016732</td>\n",
              "      <td>-0.006482</td>\n",
              "      <td>-0.052667</td>\n",
              "      <td>-0.332084</td>\n",
              "      <td>1.000000</td>\n",
              "      <td>0.016889</td>\n",
              "    </tr>\n",
              "    <tr>\n",
              "      <th>Gender_Male</th>\n",
              "      <td>-0.002857</td>\n",
              "      <td>-0.027544</td>\n",
              "      <td>0.014733</td>\n",
              "      <td>0.012087</td>\n",
              "      <td>-0.021859</td>\n",
              "      <td>0.005766</td>\n",
              "      <td>0.022544</td>\n",
              "      <td>-0.008112</td>\n",
              "      <td>-0.106512</td>\n",
              "      <td>-0.024628</td>\n",
              "      <td>0.016889</td>\n",
              "      <td>1.000000</td>\n",
              "    </tr>\n",
              "  </tbody>\n",
              "</table>\n",
              "</div>\n",
              "      <button class=\"colab-df-convert\" onclick=\"convertToInteractive('df-0b6162f4-7dc6-410b-809e-48782497fdca')\"\n",
              "              title=\"Convert this dataframe to an interactive table.\"\n",
              "              style=\"display:none;\">\n",
              "        \n",
              "  <svg xmlns=\"http://www.w3.org/2000/svg\" height=\"24px\"viewBox=\"0 0 24 24\"\n",
              "       width=\"24px\">\n",
              "    <path d=\"M0 0h24v24H0V0z\" fill=\"none\"/>\n",
              "    <path d=\"M18.56 5.44l.94 2.06.94-2.06 2.06-.94-2.06-.94-.94-2.06-.94 2.06-2.06.94zm-11 1L8.5 8.5l.94-2.06 2.06-.94-2.06-.94L8.5 2.5l-.94 2.06-2.06.94zm10 10l.94 2.06.94-2.06 2.06-.94-2.06-.94-.94-2.06-.94 2.06-2.06.94z\"/><path d=\"M17.41 7.96l-1.37-1.37c-.4-.4-.92-.59-1.43-.59-.52 0-1.04.2-1.43.59L10.3 9.45l-7.72 7.72c-.78.78-.78 2.05 0 2.83L4 21.41c.39.39.9.59 1.41.59.51 0 1.02-.2 1.41-.59l7.78-7.78 2.81-2.81c.8-.78.8-2.07 0-2.86zM5.41 20L4 18.59l7.72-7.72 1.47 1.35L5.41 20z\"/>\n",
              "  </svg>\n",
              "      </button>\n",
              "      \n",
              "  <style>\n",
              "    .colab-df-container {\n",
              "      display:flex;\n",
              "      flex-wrap:wrap;\n",
              "      gap: 12px;\n",
              "    }\n",
              "\n",
              "    .colab-df-convert {\n",
              "      background-color: #E8F0FE;\n",
              "      border: none;\n",
              "      border-radius: 50%;\n",
              "      cursor: pointer;\n",
              "      display: none;\n",
              "      fill: #1967D2;\n",
              "      height: 32px;\n",
              "      padding: 0 0 0 0;\n",
              "      width: 32px;\n",
              "    }\n",
              "\n",
              "    .colab-df-convert:hover {\n",
              "      background-color: #E2EBFA;\n",
              "      box-shadow: 0px 1px 2px rgba(60, 64, 67, 0.3), 0px 1px 3px 1px rgba(60, 64, 67, 0.15);\n",
              "      fill: #174EA6;\n",
              "    }\n",
              "\n",
              "    [theme=dark] .colab-df-convert {\n",
              "      background-color: #3B4455;\n",
              "      fill: #D2E3FC;\n",
              "    }\n",
              "\n",
              "    [theme=dark] .colab-df-convert:hover {\n",
              "      background-color: #434B5C;\n",
              "      box-shadow: 0px 1px 3px 1px rgba(0, 0, 0, 0.15);\n",
              "      filter: drop-shadow(0px 1px 2px rgba(0, 0, 0, 0.3));\n",
              "      fill: #FFFFFF;\n",
              "    }\n",
              "  </style>\n",
              "\n",
              "      <script>\n",
              "        const buttonEl =\n",
              "          document.querySelector('#df-0b6162f4-7dc6-410b-809e-48782497fdca button.colab-df-convert');\n",
              "        buttonEl.style.display =\n",
              "          google.colab.kernel.accessAllowed ? 'block' : 'none';\n",
              "\n",
              "        async function convertToInteractive(key) {\n",
              "          const element = document.querySelector('#df-0b6162f4-7dc6-410b-809e-48782497fdca');\n",
              "          const dataTable =\n",
              "            await google.colab.kernel.invokeFunction('convertToInteractive',\n",
              "                                                     [key], {});\n",
              "          if (!dataTable) return;\n",
              "\n",
              "          const docLinkHtml = 'Like what you see? Visit the ' +\n",
              "            '<a target=\"_blank\" href=https://colab.research.google.com/notebooks/data_table.ipynb>data table notebook</a>'\n",
              "            + ' to learn more about interactive tables.';\n",
              "          element.innerHTML = '';\n",
              "          dataTable['output_type'] = 'display_data';\n",
              "          await google.colab.output.renderOutput(dataTable, element);\n",
              "          const docLink = document.createElement('div');\n",
              "          docLink.innerHTML = docLinkHtml;\n",
              "          element.appendChild(docLink);\n",
              "        }\n",
              "      </script>\n",
              "    </div>\n",
              "  </div>\n",
              "  "
            ],
            "text/plain": [
              "                   CreditScore       Age  ...  Geography_Spain  Gender_Male\n",
              "CreditScore           1.000000 -0.003965  ...         0.004780    -0.002857\n",
              "Age                  -0.003965  1.000000  ...        -0.001685    -0.027544\n",
              "Tenure                0.000842 -0.009997  ...         0.003868     0.014733\n",
              "Balance               0.006268  0.028308  ...        -0.134892     0.012087\n",
              "NumOfProducts         0.012238 -0.030680  ...         0.009039    -0.021859\n",
              "HasCrCard            -0.005458 -0.011721  ...        -0.013480     0.005766\n",
              "IsActiveMember        0.025651  0.085472  ...         0.016732     0.022544\n",
              "EstimatedSalary      -0.001384 -0.007201  ...        -0.006482    -0.008112\n",
              "Exited               -0.027094  0.285323  ...        -0.052667    -0.106512\n",
              "Geography_Germany     0.005538  0.046897  ...        -0.332084    -0.024628\n",
              "Geography_Spain       0.004780 -0.001685  ...         1.000000     0.016889\n",
              "Gender_Male          -0.002857 -0.027544  ...         0.016889     1.000000\n",
              "\n",
              "[12 rows x 12 columns]"
            ]
          },
          "metadata": {},
          "execution_count": 11
        }
      ]
    },
    {
      "cell_type": "markdown",
      "source": [
        "Максимальная корреляция достигает 0.4 . Это очень слабый показатель поэтому мы оставляем все признаки."
      ],
      "metadata": {
        "id": "LI_kbuhb6hwh"
      }
    },
    {
      "cell_type": "markdown",
      "source": [
        "**Разделение данных**\n",
        "\n",
        "Разделим данные на обучающую, валидационную и тестовые выборки."
      ],
      "metadata": {
        "id": "9yZb16JH6lfT"
      }
    },
    {
      "cell_type": "code",
      "source": [
        "from sklearn.model_selection import train_test_split\n",
        "\n",
        "#разделим в пропорции 60:20:20\n",
        "train, other = train_test_split(data, test_size=0.4, random_state=5, stratify=data['Exited'])\n",
        "valid, test = train_test_split(other, test_size=0.5, random_state=5, stratify=other['Exited'])\n",
        "\n",
        "features_train = train.drop('Exited', axis=1)\n",
        "target_train = train['Exited']\n",
        "\n",
        "features_valid = valid.drop('Exited', axis=1)\n",
        "target_valid = valid['Exited']\n",
        "\n",
        "features_test = test.drop('Exited', axis=1)\n",
        "target_test = test['Exited']"
      ],
      "metadata": {
        "id": "xDzFTiFr6e2U"
      },
      "execution_count": 12,
      "outputs": []
    },
    {
      "cell_type": "markdown",
      "source": [
        "**Стандартизация данных**\n",
        "\n",
        "В исследовании мы будем использовать модель логистической регресси, которая, в отличие от деревьев, чувствительна к разным масштабам количественных признаков - она может посчитать какие-то признаки более весомее, чем другие. Чтобы избежать подобного, стандартизируем данные."
      ],
      "metadata": {
        "id": "l3W0LRJI6u6A"
      }
    },
    {
      "cell_type": "code",
      "source": [
        "from sklearn.preprocessing import StandardScaler\n",
        "pd.options.mode.chained_assignment=None\n",
        "\n",
        "#выделим количественные признаки\n",
        "numeric = ['CreditScore', 'Age', 'Tenure', 'Balance', 'NumOfProducts', 'EstimatedSalary']\n",
        "\n",
        "scaler = StandardScaler()\n",
        "#обучим на тренировочных данных\n",
        "scaler.fit(features_train[numeric])\n",
        "#стандартизируем численные признаки в признаках для обучения\n",
        "features_train[numeric] = scaler.transform(features_train[numeric])\n",
        "\n",
        "#сразу же стандартизируем и признаки валидационной и тестовой выборок\n",
        "features_valid[numeric] = scaler.transform(features_valid[numeric])\n",
        "features_test[numeric] = scaler.transform(features_test[numeric])"
      ],
      "metadata": {
        "id": "ulT1hhJs6uct"
      },
      "execution_count": 13,
      "outputs": []
    },
    {
      "cell_type": "markdown",
      "source": [
        "**Вывод:**\n",
        "\n",
        "Нами были прочитаны данные и краткая информация о них. Затем подготовили данные для обучения моделей:\n",
        "\n",
        "\n",
        "\n",
        "*   удалили ненужные столбцы\n",
        "*заполнили пропуски\n",
        "*проверили на выбросы\n",
        "*преобразовали данные в понятный для алгоритма формат\n",
        "*убедились, что нет сильно коррелирующих признаков\n",
        "разделили данные на обучающую, валидационую и тестовую выборки\n",
        "\n",
        "\n",
        "Мы никак не обрабатывали столбцы HasCrCard и IsActiveMember. Данные в них представленны уже в удовлетворительном бинарном виде."
      ],
      "metadata": {
        "id": "_WY2nxtv62Ly"
      }
    },
    {
      "cell_type": "code",
      "source": [
        ""
      ],
      "metadata": {
        "id": "znuYE1C67EuB"
      },
      "execution_count": null,
      "outputs": []
    },
    {
      "cell_type": "markdown",
      "source": [
        "# **Исследование задачи**"
      ],
      "metadata": {
        "id": "5bYLDFUq7IMd"
      }
    },
    {
      "cell_type": "markdown",
      "source": [
        "**Проверка баланса классов**"
      ],
      "metadata": {
        "id": "nS8Ehx7V7J3-"
      }
    },
    {
      "cell_type": "code",
      "source": [
        "target_train.value_counts(normalize=True)"
      ],
      "metadata": {
        "colab": {
          "base_uri": "https://localhost:8080/"
        },
        "id": "3y5bqJDR7M-V",
        "outputId": "667d2005-ca30-4b21-8e7e-406250e9c184"
      },
      "execution_count": 14,
      "outputs": [
        {
          "output_type": "execute_result",
          "data": {
            "text/plain": [
              "0    0.796333\n",
              "1    0.203667\n",
              "Name: Exited, dtype: float64"
            ]
          },
          "metadata": {},
          "execution_count": 14
        }
      ]
    },
    {
      "cell_type": "markdown",
      "source": [
        "Результат показал, что классы находятся в дисбалансе.\n",
        "\n",
        "Посмотрим какие будут метрики качества, если оставить дисбаланс.\n",
        "\n",
        "Будем использовать три алгоритма машинного обучения: решающее дерево, случаный лес и логиситческую регрессию. Для сравнения моделей будем использовать две метрики качества: F1-меру и AUC-ROC."
      ],
      "metadata": {
        "id": "88ke8VNs7Qye"
      }
    },
    {
      "cell_type": "markdown",
      "source": [
        "**Решающее дерево**"
      ],
      "metadata": {
        "id": "0lvM_N2n7baa"
      }
    },
    {
      "cell_type": "code",
      "source": [
        "from sklearn.tree import DecisionTreeClassifier\n",
        "from sklearn.metrics import f1_score\n",
        "from sklearn.metrics import roc_auc_score\n",
        "\n",
        "best_f1 = 0\n",
        "#перебором найдем лучшую глубину дерева и выведем результат на экран\n",
        "for depth in range(2, 20):\n",
        "    model = DecisionTreeClassifier(max_depth=depth, random_state=5)\n",
        "    model.fit(features_train, target_train)\n",
        "    predictions = model.predict(features_valid)\n",
        "    \n",
        "    #посчитаем значение F1меры\n",
        "    f1 = f1_score(y_true = target_valid, y_pred = predictions)\n",
        "    \n",
        "    #теперь узнаем AUC-ROC: сначала посчитаем вероятности классов\n",
        "    proba = model.predict_proba(features_valid)\n",
        "    #выделим из них положительные \n",
        "    proba_one = proba[:, 1]\n",
        "    #и посчитаем саму метрику \n",
        "    auc_roc = roc_auc_score(target_valid, proba_one)\n",
        "    if f1 > best_f1:\n",
        "        best_f1 = f1\n",
        "        best_depth = depth\n",
        "        best_auc_roc = auc_roc\n",
        "\n",
        "print('Лучший результат F1 =', best_f1, '| глубина =', best_depth, '| AUC-ROC =', best_auc_roc)"
      ],
      "metadata": {
        "colab": {
          "base_uri": "https://localhost:8080/"
        },
        "id": "nBv1r_as7R7S",
        "outputId": "94f2e0b3-004b-4b29-c880-95e161a9b465"
      },
      "execution_count": 15,
      "outputs": [
        {
          "output_type": "stream",
          "name": "stdout",
          "text": [
            "Лучший результат F1 = 0.5735735735735736 | глубина = 8 | AUC-ROC = 0.8341785545175375\n"
          ]
        }
      ]
    },
    {
      "cell_type": "markdown",
      "source": [
        "**Случайный лес**"
      ],
      "metadata": {
        "id": "fQptOg0c7hyy"
      }
    },
    {
      "cell_type": "code",
      "source": [
        "from sklearn.ensemble import RandomForestClassifier\n",
        "\n",
        "best_f1 = 0\n",
        "#циклом переберем гипермапареметры: количество решающих деревьев и глубину дерева, выведем параметры модели с лучшим результатом\n",
        "for estim in range(10, 111, 5):\n",
        "    for depth in range(5, 16):\n",
        "        model = RandomForestClassifier(n_estimators=estim, max_depth=depth, random_state=5)\n",
        "        model.fit(features_train, target_train)\n",
        "        predictions = model.predict(features_valid)\n",
        "        \n",
        "        f1 = f1_score(y_true = target_valid, y_pred = predictions)\n",
        "        \n",
        "        proba = model.predict_proba(features_valid)\n",
        "        proba_one = proba[:, 1]\n",
        "        auc_roc = roc_auc_score(target_valid, proba_one)\n",
        "        if f1 > best_f1:\n",
        "            best_f1 = f1\n",
        "            best_depth = depth\n",
        "            best_estim = estim\n",
        "            best_auc_roc = auc_roc\n",
        "            \n",
        "print('Лучший результат F1 =', best_f1, '| количество деревьев =', best_estim, '| глубина =', best_depth,\n",
        "      '| AUC-ROC =', best_auc_roc)"
      ],
      "metadata": {
        "colab": {
          "base_uri": "https://localhost:8080/"
        },
        "id": "rYmQ7pgL7R_m",
        "outputId": "cbec2b7d-fd26-45dd-a547-aefb4ab13969"
      },
      "execution_count": 16,
      "outputs": [
        {
          "output_type": "stream",
          "name": "stdout",
          "text": [
            "Лучший результат F1 = 0.5803432137285491 | количество деревьев = 20 | глубина = 11 | AUC-ROC = 0.8560062373621696\n"
          ]
        }
      ]
    },
    {
      "cell_type": "markdown",
      "source": [
        "**Логистическая регрессия**"
      ],
      "metadata": {
        "id": "s8I-gAX-8Fgv"
      }
    },
    {
      "cell_type": "code",
      "source": [
        "from sklearn.linear_model import LogisticRegression\n",
        "\n",
        "model = LogisticRegression(solver='liblinear', random_state=5)\n",
        "model.fit(features_train, target_train)\n",
        "predictions = model.predict(features_valid)\n",
        "\n",
        "f1 = f1_score(y_true = target_valid, y_pred = predictions)\n",
        "\n",
        "proba = model.predict_proba(features_valid)\n",
        "proba_one = proba[:, 1]\n",
        "auc_roc = roc_auc_score(target_valid, proba_one)\n",
        "\n",
        "print('F1 =', f1, '| AUC-ROC =', auc_roc)"
      ],
      "metadata": {
        "colab": {
          "base_uri": "https://localhost:8080/"
        },
        "id": "Y5E6t5pl8GkY",
        "outputId": "2a3e722f-17bf-4a40-dffa-16b9b201f617"
      },
      "execution_count": 17,
      "outputs": [
        {
          "output_type": "stream",
          "name": "stdout",
          "text": [
            "F1 = 0.29259259259259257 | AUC-ROC = 0.7773196925739299\n"
          ]
        }
      ]
    },
    {
      "cell_type": "markdown",
      "source": [
        "**Вывод:**\n",
        "\n",
        "Мы выявили, что классы целевого признака находятся в дисбалансе - соотношение 8:2.\n",
        "\n",
        "Не изменяя баланса классов, мы протестировали на данных три вида алгоритмов машинного обучения: решающее дерево, случаный лес и логиситческую регрессию. Для решающего девера и случайного леса подобрали лучшие гиперпараметры. После вычислили значения метрик качества F1 и AUC-ROC.\n",
        "\n",
        "Каждая модель работает лучше чем случайная.\n",
        "\n",
        "**Лучшей моделью оказалась модель случаного леса с гиперпараметрами: количество деревьев = 90 и глубина = 13. Её метрики качества получились: F1 = 0.588, AUC-ROC = 0.84.**\n",
        "\n",
        "Немного хуже справилась модель решающего дерева: F1 = 0.571 | AUC-ROC = 0.83. Хуже всех показала себя логистическая регрессия: F1 = 0.293 | AUC-ROC = 0.78."
      ],
      "metadata": {
        "id": "l8Is9CvY8LLg"
      }
    },
    {
      "cell_type": "markdown",
      "source": [
        "# **Борьба с дисбалансом**"
      ],
      "metadata": {
        "id": "dJmDP3Bl8UZG"
      }
    },
    {
      "cell_type": "markdown",
      "source": [
        "Для упрощения работы напишем три функции, которые будут возвращать нам модели с лучшими результатами для каждого из выбранных алгоритмов."
      ],
      "metadata": {
        "id": "ZJkZQP1k8Wg8"
      }
    },
    {
      "cell_type": "code",
      "source": [
        "def tree_results(features_train, target_train, features_valid, target_valid, clas_weight):\n",
        "    '''\n",
        "    функция подбора лучших гиперпараметров для алгоритма решающего дерева\n",
        "    функция перебирает разные глубины дерева решений и возвращает лучшую модель по метрике f1,\n",
        "    дополнительно возвращает параметры и AUC-ROC\n",
        "    '''\n",
        "    best_f1 = 0\n",
        "    for depth in range(1, 20):\n",
        "        model = DecisionTreeClassifier(max_depth=depth, random_state=5, class_weight=clas_weight)\n",
        "        model.fit(features_train, target_train)\n",
        "        predictions = model.predict(features_valid)\n",
        "        \n",
        "        f1 = f1_score(y_true = target_valid, y_pred = predictions)\n",
        "        \n",
        "        proba = model.predict_proba(features_valid)\n",
        "        proba_one = proba[:, 1]\n",
        "        auc_roc = roc_auc_score(target_valid, proba_one)\n",
        "        if f1 > best_f1:\n",
        "            best_f1 = f1\n",
        "            best_depth = depth\n",
        "            best_auc_roc = auc_roc\n",
        "    print('ДЕРЕВО РЕШЕНИЙ          | F1 =', best_f1, '| AUC-ROC =', best_auc_roc, '| глубина =', best_depth)\n",
        "#-----------------------------------------------------------------------------------------------------------------------\n",
        "def forest_results(features_train, target_train, features_valid, target_valid, clas_weight):\n",
        "    '''\n",
        "    функция подбора лучших гиперпараметров для алгоритма случайного леса\n",
        "    функция перебирает разные глубины дерева решений и количества решающих деревьев, и возвращает лучшую модель по метрике f1,\n",
        "    дополнительно возвращает параметры модели и AUC-ROC\n",
        "    '''\n",
        "    best_f1 = 0\n",
        "    for estim in range(30, 111, 5):\n",
        "        for depth in range(5, 16):\n",
        "            model = RandomForestClassifier(n_estimators=estim, max_depth=depth, random_state=5, class_weight=clas_weight)\n",
        "            model.fit(features_train, target_train)\n",
        "            predictions = model.predict(features_valid)\n",
        "            \n",
        "            f1 = f1_score(y_true = target_valid, y_pred = predictions)\n",
        "            \n",
        "            proba = model.predict_proba(features_valid)\n",
        "            proba_one = proba[:, 1]\n",
        "            auc_roc = roc_auc_score(target_valid, proba_one)\n",
        "            if f1 > best_f1:\n",
        "                best_f1 = f1\n",
        "                best_depth = depth\n",
        "                best_estim = estim\n",
        "                best_auc_roc = auc_roc      \n",
        "    print('СЛУЧАЙНЫЙ ЛЕС           | F1 =', best_f1, '| AUC-ROC =', best_auc_roc,\n",
        "          '| количество деревьев =', best_estim, '| глубина =', best_depth)\n",
        "#-----------------------------------------------------------------------------------------------------------------------\n",
        "def logreg_results(features_train, target_train, features_valid, target_valid, clas_weight):\n",
        "    '''\n",
        "    функция возвращает результаты f1 и AUC-ROC для модели обученной с помощью логистической регрессии\n",
        "    '''\n",
        "    model = LogisticRegression(solver='liblinear', random_state=5, class_weight=clas_weight)\n",
        "    model.fit(features_train, target_train)\n",
        "    predictions = model.predict(features_valid)\n",
        "    \n",
        "    f1 = f1_score(y_true = target_valid, y_pred = predictions)\n",
        "    \n",
        "    proba = model.predict_proba(features_valid)\n",
        "    proba_one = proba[:, 1]\n",
        "    auc_roc = roc_auc_score(target_valid, proba_one)\n",
        "\n",
        "    print('ЛОГИСТИЧЕСКАЯ РЕГРЕССИЯ | F1 =', f1, '| AUC-ROC =', auc_roc)"
      ],
      "metadata": {
        "id": "YGjHKsn48Y13"
      },
      "execution_count": 18,
      "outputs": []
    },
    {
      "cell_type": "markdown",
      "source": [
        "**Взвешивание классов**\n",
        "\n",
        "Сначала попробуем способ, который рассчитает и сам установит веса классов, тем самым сбалансируя их. Для этого будем указывать class_weight='balanced' при создании каждой модели."
      ],
      "metadata": {
        "id": "IDY1yjQV8znh"
      }
    },
    {
      "cell_type": "code",
      "source": [
        "tree_results(features_train, target_train, features_valid, target_valid, 'balanced')\n",
        "forest_results(features_train, target_train, features_valid, target_valid, 'balanced')\n",
        "logreg_results(features_train, target_train, features_valid, target_valid, 'balanced')"
      ],
      "metadata": {
        "colab": {
          "base_uri": "https://localhost:8080/"
        },
        "id": "9uQCRw4G85WA",
        "outputId": "9e3ebc62-4a81-4844-e79c-c78a5e04cfd6"
      },
      "execution_count": 19,
      "outputs": [
        {
          "output_type": "stream",
          "name": "stdout",
          "text": [
            "ДЕРЕВО РЕШЕНИЙ          | F1 = 0.591937069813176 | AUC-ROC = 0.8309573055335767 | глубина = 7\n",
            "СЛУЧАЙНЫЙ ЛЕС           | F1 = 0.6270136307311028 | AUC-ROC = 0.8622536249654895 | количество деревьев = 65 | глубина = 10\n",
            "ЛОГИСТИЧЕСКАЯ РЕГРЕССИЯ | F1 = 0.5077062556663645 | AUC-ROC = 0.7788913721117111\n"
          ]
        }
      ]
    },
    {
      "cell_type": "markdown",
      "source": [
        "Данным способом нам удалось значительно увеличить показатели качества. Фаворитом все так же остается случайный лес, его F1-мера возросла на приблизительно на 5% по сравнению с результатами без балансировки."
      ],
      "metadata": {
        "id": "SQWLadxW9bie"
      }
    },
    {
      "cell_type": "markdown",
      "source": [
        "**Upsampling**\n",
        "\n",
        "Теперь попробуем технику увеличения выборки. Увеличим количество положительных ответов настолько, чтобы приблизительно сравнять его с количеством отрицательными."
      ],
      "metadata": {
        "id": "U1VdAuCJ9dQj"
      }
    },
    {
      "cell_type": "code",
      "source": [
        "from sklearn.utils import shuffle\n",
        "\n",
        "#сначала разделим положительные и отрицательные ответы\n",
        "features_zeros = features_train[target_train == 0]\n",
        "features_ones = features_train[target_train == 1]\n",
        "target_zeros = target_train[target_train == 0]\n",
        "target_ones = target_train[target_train == 1]\n",
        "\n",
        "#здесь посчитаем во сколько раз нужно увеличить положительные ответы и\n",
        "#окргулим в большую сторону, потому что датафреймы можно умножать только на целые числа\n",
        "repeat = round((len(features_zeros) / len(features_ones)))\n",
        "\n",
        "#в новые переменные поместим ( [все отрицательные] + [все положительные] * на нужное для уравнения количество раз)\n",
        "features_upsampled = pd.concat([features_zeros] + [features_ones] * repeat )\n",
        "target_upsampled = pd.concat([target_zeros] + [target_ones] * repeat ) \n",
        "\n",
        "#перемешаем объекты, чтобы модель лучше обучалась\n",
        "features_upsampled, target_upsampled = shuffle(features_upsampled, target_upsampled, random_state=5)"
      ],
      "metadata": {
        "id": "bQEVdFJb9c_Z"
      },
      "execution_count": 20,
      "outputs": []
    },
    {
      "cell_type": "markdown",
      "source": [
        "Найдем лучшие модели для данных, преобразованных техникой upsampling."
      ],
      "metadata": {
        "id": "igoY73RA9sAo"
      }
    },
    {
      "cell_type": "code",
      "source": [
        "tree_results(features_upsampled, target_upsampled, features_valid, target_valid, None)\n",
        "forest_results(features_upsampled, target_upsampled, features_valid, target_valid, None)\n",
        "logreg_results(features_upsampled, target_upsampled, features_valid, target_valid, None)"
      ],
      "metadata": {
        "colab": {
          "base_uri": "https://localhost:8080/"
        },
        "id": "saBJgNzD9qa2",
        "outputId": "734a00b7-ce48-4ed1-cd86-6fc6cd916b39"
      },
      "execution_count": 21,
      "outputs": [
        {
          "output_type": "stream",
          "name": "stdout",
          "text": [
            "ДЕРЕВО РЕШЕНИЙ          | F1 = 0.5911330049261083 | AUC-ROC = 0.8291041426634647 | глубина = 7\n",
            "СЛУЧАЙНЫЙ ЛЕС           | F1 = 0.6378504672897196 | AUC-ROC = 0.8554448130719318 | количество деревьев = 30 | глубина = 11\n",
            "ЛОГИСТИЧЕСКАЯ РЕГРЕССИЯ | F1 = 0.5080500894454383 | AUC-ROC = 0.7789145077280669\n"
          ]
        }
      ]
    },
    {
      "cell_type": "markdown",
      "source": [
        "Результаты так же лучше чем без балансировки. Также подросли метрики качества по сравнению с методом взвешивания классов."
      ],
      "metadata": {
        "id": "K6fAPHtT-SzA"
      }
    },
    {
      "cell_type": "markdown",
      "source": [
        "**Downsampling**\n",
        "\n",
        "Попробуем еще одну похожую технику. Суть ее заключается в уменьшении количества объектов большего класса настолько, чтобы их количество приблизительно сравнялось с меньшим классом."
      ],
      "metadata": {
        "id": "7AS5zeCL-Vq-"
      }
    },
    {
      "cell_type": "code",
      "source": [
        "from sklearn.utils import shuffle\n",
        "\n",
        "#посчитаем какую часть данных нужно оставить\n",
        "fraction = len(features_ones) / len(features_zeros)\n",
        "\n",
        "#объединим положительные ответы с нужной частью отрицательных\n",
        "features_downsampled = pd.concat([features_zeros.sample(frac=fraction, random_state=5)] + [features_ones])\n",
        "target_downsampled = pd.concat([target_zeros.sample(frac=fraction, random_state=5)] + [target_ones])\n",
        "\n",
        "#также перемешаем\n",
        "features_downsampled, target_downsampled = shuffle(features_downsampled, target_downsampled, random_state=5)"
      ],
      "metadata": {
        "id": "bwE489aJ-Ttb"
      },
      "execution_count": 22,
      "outputs": []
    },
    {
      "cell_type": "markdown",
      "source": [
        "Найдем лучшие модели для данных, преобразованных техникой downsampling."
      ],
      "metadata": {
        "id": "B1ehFLFv-eky"
      }
    },
    {
      "cell_type": "code",
      "source": [
        "tree_results(features_downsampled, target_downsampled, features_valid, target_valid, None)\n",
        "forest_results(features_downsampled, target_downsampled, features_valid, target_valid, None)\n",
        "logreg_results(features_downsampled, target_downsampled, features_valid, target_valid, None)"
      ],
      "metadata": {
        "colab": {
          "base_uri": "https://localhost:8080/"
        },
        "id": "T5BAoQSx-e-2",
        "outputId": "bd970149-606f-4662-87e8-a34dd83333b8"
      },
      "execution_count": 23,
      "outputs": [
        {
          "output_type": "stream",
          "name": "stdout",
          "text": [
            "ДЕРЕВО РЕШЕНИЙ          | F1 = 0.5796460176991151 | AUC-ROC = 0.813698135732034 | глубина = 5\n",
            "СЛУЧАЙНЫЙ ЛЕС           | F1 = 0.6186612576064908 | AUC-ROC = 0.8625327947361845 | количество деревьев = 100 | глубина = 9\n",
            "ЛОГИСТИЧЕСКАЯ РЕГРЕССИЯ | F1 = 0.5031674208144796 | AUC-ROC = 0.777153116136167\n"
          ]
        }
      ]
    },
    {
      "cell_type": "markdown",
      "source": [
        "Результаты все так же лучше, чем без балансировки. Но данная техника борьбы с дисбалансом показала себя немного хуже, нежели две предыдущие."
      ],
      "metadata": {
        "id": "GBl3XHqu-yiX"
      }
    },
    {
      "cell_type": "code",
      "source": [
        ""
      ],
      "metadata": {
        "id": "OUNSIZBM-zIm"
      },
      "execution_count": null,
      "outputs": []
    },
    {
      "cell_type": "markdown",
      "source": [
        "**Вывод**\n",
        "\n",
        "С целью решения проблемы дисбаланса классов целевого признака мы попробовали три техники: взвешивание классов, upsampling и downsampling. Применяя каждую технику, мы нашли результаты метрик качества для трех лучших моделей, обученных разными алгоритмами.\n",
        "\n",
        "Каждая модель работает лучше случайной.\n",
        "\n",
        "Но лучший результат был достигнут с помощью **техники upsampling у модели случайного леса с гиперпараметрами: количество деревьев = 65 | глубина = 10. Метрики качества: F1 = 0.6339 , AUC-ROC = 0.8615.**"
      ],
      "metadata": {
        "id": "VrNu2dXr-1BY"
      }
    },
    {
      "cell_type": "markdown",
      "source": [
        "# **Тестирование модели**"
      ],
      "metadata": {
        "id": "hbXbQPLZ_BDQ"
      }
    },
    {
      "cell_type": "markdown",
      "source": [
        "Осталось лишь протестировать выявленную лучшую модель на тестовых данных."
      ],
      "metadata": {
        "id": "uF5T5LmG_CuA"
      }
    },
    {
      "cell_type": "code",
      "source": [
        "model = RandomForestClassifier(n_estimators=65, max_depth=10, random_state=5)\n",
        "model.fit(features_upsampled, target_upsampled)\n",
        "predictions = model.predict(features_test)\n",
        "\n",
        "f1 = f1_score(y_true = target_test, y_pred = predictions)\n",
        "\n",
        "proba = model.predict_proba(features_test)\n",
        "proba_one = proba[:, 1]\n",
        "auc_roc = roc_auc_score(target_test, proba_one)\n",
        "\n",
        "print('F1 =', f1, '| AUC-ROC =', auc_roc)"
      ],
      "metadata": {
        "colab": {
          "base_uri": "https://localhost:8080/"
        },
        "id": "TvStoqhu-878",
        "outputId": "73236469-3a49-4a67-ad78-fa5139d671a3"
      },
      "execution_count": 24,
      "outputs": [
        {
          "output_type": "stream",
          "name": "stdout",
          "text": [
            "F1 = 0.6062639821029082 | AUC-ROC = 0.8628451694748253\n"
          ]
        }
      ]
    },
    {
      "cell_type": "markdown",
      "source": [
        "# **Общий вывод:**"
      ],
      "metadata": {
        "id": "bBE9pajo_Iy8"
      }
    },
    {
      "cell_type": "markdown",
      "source": [
        "Входные данные представляли собой таблицу, в которой каждый объект представлял собой наблюдение за одинм клиентом банка по 14-ти признакам.\n",
        "\n",
        "Данные были преобработаны и подготовлены для обучения на трех алгоритмах машинного обучения: решающее дерево, случаный лес и логиситческая регрессия.\n",
        "\n",
        "Было выявленно, что классы целевого признака находятся в дисбалансе. Сначала мы попробовали решить задачу без учета дисбаланса, но, не получив нужных результатов по метрикам качества, было принято решение сбалансировать классы.\n",
        "\n",
        "Балансировка осуществлялась тремя техниками: взвешиванием классов, upsampling и downsampling. Для каждой из техник были выявлены лучшие модели по выбранным алгоритмам.\n",
        "\n",
        "Лучше всех себя показала **модель случайного леса с гиперпараметрами: количество деревьев = 65 | глубина = 10, которая была обучена на данных, сбаласированных техникой upsampling.**\n",
        "\n",
        "На тестовой выборке данная модель показала результаты: **F1 = 0.605 и AUC-ROC = 0.869.**"
      ],
      "metadata": {
        "id": "Ldm-lrg3_Kij"
      }
    }
  ]
}